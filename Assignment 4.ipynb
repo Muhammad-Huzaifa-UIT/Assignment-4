{
 "cells": [
  {
   "cell_type": "code",
   "execution_count": 1,
   "metadata": {},
   "outputs": [
    {
     "name": "stdout",
     "output_type": "stream",
     "text": [
      "{'first name': 'Muhammad', 'last name': 'Huzaifa', 'age': 19, 'city': 'Karachi'}\n",
      "{'first name': 'Muhammad', 'last name': 'Huzaifa', 'age': 19, 'city': 'Karachi', 'Qualification': 'UnderGraduate'}\n",
      "{'first name': 'Muhammad', 'last name': 'Huzaifa', 'age': 19, 'city': 'Karachi', 'Qualification': 'high academic level'}\n",
      "{'first name': 'Muhammad', 'last name': 'Huzaifa', 'age': 19, 'city': 'Karachi'}\n"
     ]
    }
   ],
   "source": [
    "#QS1\n",
    "dic = {'first name' : 'Muhammad','last name' : 'Huzaifa','age': 19,'city' : 'Karachi'}\n",
    "print(dic)\n",
    "dic['Qualification'] = 'UnderGraduate'\n",
    "print(dic)\n",
    "d1 = {'Qualification':'high academic level'}\n",
    "dic.update(d1)\n",
    "print(dic)\n",
    "dic.popitem()\n",
    "print(dic)"
   ]
  },
  {
   "cell_type": "code",
   "execution_count": 3,
   "metadata": {},
   "outputs": [
    {
     "name": "stdout",
     "output_type": "stream",
     "text": [
      "{'country': 'Pakistan', 'population': '20mil', 'fact': 'bryani is too good'}\n",
      "{'country': 'USA', 'population': '200mil', 'fact': 'pasta is too good'}\n",
      "{'country': 'India', 'population': '10mil', 'fact': 'nehari is too good'}\n"
     ]
    }
   ],
   "source": [
    "#QS2\n",
    "\n",
    "cities = {'Lahore' : {'country' : 'Pakistan','population' : '20mil','fact' :'bryani is too good'},\n",
    "          'Los Angeles': {'country': 'USA', 'population': '200mil', 'fact': 'pasta is too good'},\n",
    "          'Mumbai': {'country': 'India', 'population': '10mil', 'fact': 'nehari is too good'}}\n",
    "print(cities['Lahore'])\n",
    "print(cities['Los Angeles'])\n",
    "print(cities['Mumbai'])\n"
   ]
  },
  {
   "cell_type": "code",
   "execution_count": 4,
   "metadata": {},
   "outputs": [
    {
     "name": "stdout",
     "output_type": "stream",
     "text": [
      "Enter your age :20\n",
      "Ticket is 15$\n"
     ]
    }
   ],
   "source": [
    "#QS3\n",
    "age = int(input('Enter your age :'))\n",
    "if age < 3:\n",
    "    print('Ticket is free')\n",
    "elif age in range(3,12):\n",
    "    print('Ticket is 10$')\n",
    "elif age > 12:\n",
    "    print('Ticket is 15$')"
   ]
  },
  {
   "cell_type": "code",
   "execution_count": 5,
   "metadata": {},
   "outputs": [
    {
     "name": "stdout",
     "output_type": "stream",
     "text": [
      "My favourite book is The Subtle Are of Not Giving a Fuck\n"
     ]
    }
   ],
   "source": [
    "#QS4\n",
    "def favourite_book(title):\n",
    "    print('My favourite book is',title)\n",
    "\n",
    "favourite_book('The Subtle Are of Not Giving a Fuck')"
   ]
  },
  {
   "cell_type": "code",
   "execution_count": 6,
   "metadata": {},
   "outputs": [
    {
     "name": "stdout",
     "output_type": "stream",
     "text": [
      "Enter your guess number:4\n",
      "number you guessed is greater than the guessing number\n",
      "Enter your guess number:3\n",
      "number you guessed is greater than the guessing number\n",
      "Enter your guess number:1\n",
      "the number you guesses is right\n"
     ]
    }
   ],
   "source": [
    "#QS5\n",
    "import random\n",
    "ran = random.randrange(1,30)\n",
    "count = 0\n",
    "while count < 3:\n",
    "    guess = int(input('Enter your guess number:'))\n",
    "    count += 1\n",
    "    if guess > ran:\n",
    "        print('number you guessed is greater than the guessing number')\n",
    "        #count += 1\n",
    "        #guess = int(input('Enter your guess name:'))\n",
    "\n",
    "    elif guess < ran:\n",
    "        print('number you guessed is smaller than the guessing number')\n",
    "        #count += 1\n",
    "        #guess = int(input('Enter your guess name:'))\n",
    "    elif guess == ran:\n",
    "        print('the number you guesses is right')\n",
    "        #count +=1\n",
    "        #guess = int(input('Enter your guess name:'))\n"
   ]
  },
  {
   "cell_type": "code",
   "execution_count": null,
   "metadata": {},
   "outputs": [],
   "source": []
  }
 ],
 "metadata": {
  "kernelspec": {
   "display_name": "Python 3",
   "language": "python",
   "name": "python3"
  },
  "language_info": {
   "codemirror_mode": {
    "name": "ipython",
    "version": 3
   },
   "file_extension": ".py",
   "mimetype": "text/x-python",
   "name": "python",
   "nbconvert_exporter": "python",
   "pygments_lexer": "ipython3",
   "version": "3.7.4"
  }
 },
 "nbformat": 4,
 "nbformat_minor": 2
}
